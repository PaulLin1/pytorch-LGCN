{
 "cells": [
  {
   "cell_type": "code",
   "execution_count": 3,
   "id": "364cc641-e80c-4d67-b417-367121902c7b",
   "metadata": {},
   "outputs": [
    {
     "data": {
      "text/plain": [
       "10556"
      ]
     },
     "execution_count": 3,
     "metadata": {},
     "output_type": "execute_result"
    }
   ],
   "source": [
    "from torch_geometric.datasets import KarateClub, Planetoid\n",
    "\n",
    "from processing import edge_index_to_adj_matrix\n",
    "# from models.LGCL import LGCL\n",
    " \n",
    "# dataset = KarateClub()\n",
    "dataset = Planetoid(root='data', name='Cora')\n",
    "data = dataset[0]\n",
    "len(data.edge_index[0])"
   ]
  },
  {
   "cell_type": "code",
   "execution_count": 4,
   "id": "317ce121-c588-42df-885f-4816c61b1c1f",
   "metadata": {},
   "outputs": [],
   "source": [
    "import torch\n",
    "import torch.nn as nn\n",
    "\n",
    "# g and c are the respective functions from the paper (3.2)\n",
    "def g(node, all_node_features, adj_matrix, k):\n",
    "    \"\"\"\n",
    "    k-largest Node Selection\n",
    "    \"\"\"\n",
    "    neighbors = adj_matrix[node]\n",
    "    neighbor_indices = torch.where(neighbors == 1)[0]\n",
    "    neighbors_features = all_node_features[neighbor_indices]\n",
    "    if len(neighbors_features) < k:\n",
    "        neighbors_features = torch.nn.functional.pad(neighbors_features, pad=(0, 0, 0, k - len(neighbors_features)))\n",
    "    \n",
    "    top_k_features, _ = torch.topk(neighbors_features, k=k, dim=0)\n",
    "    self_and_top_k_features = torch.cat([all_node_features[node].unsqueeze(0), top_k_features], dim=0)\n",
    "    \n",
    "    return self_and_top_k_features\n",
    "\n",
    "class LGCL(nn.Module):\n",
    "    def __init__(self, input_dim, output_dim, k):\n",
    "        super().__init__()\n",
    "\n",
    "        self.input_dim = input_dim\n",
    "        self.output_dim = output_dim\n",
    "        self.k = k\n",
    "        # self.weight = nn.Parameter(torch.tensor())\n",
    "        # self.bias = 0\n",
    "\n",
    "        \"\"\"\n",
    "        3.2 - 1-D Convolutional Neural Networks\n",
    "\n",
    "        I think they are using there own implementation??\n",
    "        But i will use pytorch implementation for now\n",
    "        \"\"\"\n",
    "        self.conv = torch.nn.Conv1d(\n",
    "            in_channels=input_dim, \n",
    "            out_channels=output_dim, \n",
    "            kernel_size=k+1\n",
    "        )\n",
    "\n",
    "    # def init_params(self, layer_type):\n",
    "    #     \"\"\"\n",
    "    #     Glorot (aka Xavier uniform) initialization because the original paper uses it\n",
    "    #     \"\"\"\n",
    "    #     nn.init.xavier_uniform_(self.weight)\n",
    "\n",
    "    #     if self.bias is not None:\n",
    "    #         torch.nn.init.zeros_(self.bias)\n",
    "\n",
    "    def forward(self, x):\n",
    "        selected_features = torch.stack([g(i, self.node_features, self.adj_matrix, self.k) for i in range(len(self.node_features))])\n",
    "        return c(selected_features, self.input_dim, self.output_dim, self.k)\n",
    "\n",
    "class LGCN(nn.Module):\n",
    "    def __init__(self, node_features, adj_matrix, k, input_dim, output_dim):\n",
    "        super().__init__()\n",
    "\n",
    "        self.node_features = node_features\n",
    "        self.adj_matrix = adj_matrix\n",
    "        self.k = k\n",
    "        self.input_dim = input_dim\n",
    "        self.output_dim = output_dim\n",
    "\n",
    "        self.LGCL = LGCL()\n",
    "    def forward(self, x):\n",
    "        selected_features = torch.stack([g(i, self.node_features, self.adj_matrix, self.k) for i in range(len(self.node_features))])\n",
    "        return c(selected_features, self.input_dim, self.output_dim, self.k)\n"
   ]
  }
 ],
 "metadata": {
  "kernelspec": {
   "display_name": "lgcn",
   "language": "python",
   "name": "lgcn"
  },
  "language_info": {
   "codemirror_mode": {
    "name": "ipython",
    "version": 3
   },
   "file_extension": ".py",
   "mimetype": "text/x-python",
   "name": "python",
   "nbconvert_exporter": "python",
   "pygments_lexer": "ipython3",
   "version": "3.12.7"
  }
 },
 "nbformat": 4,
 "nbformat_minor": 5
}
