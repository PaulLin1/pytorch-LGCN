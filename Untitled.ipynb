{
 "cells": [
  {
   "cell_type": "code",
   "execution_count": 571,
   "id": "364cc641-e80c-4d67-b417-367121902c7b",
   "metadata": {},
   "outputs": [],
   "source": [
    "import torch\n",
    "import torch.nn as nn\n",
    "import torch.nn.functional as F\n",
    "from torch_geometric.datasets import KarateClub, Planetoid\n",
    "from processing import edge_index_to_adj_matrix\n",
    "\n",
    "dataset = KarateClub()\n",
    "data = dataset[0]\n",
    "adj_matrix = edge_index_to_adj_matrix(data.edge_index)"
   ]
  },
  {
   "cell_type": "code",
   "execution_count": 579,
   "id": "410d6dec-e778-4c85-bd92-9532dd71b2fc",
   "metadata": {},
   "outputs": [],
   "source": [
    "g = torch.Generator().manual_seed(42)\n",
    "mask = torch.zeros(34)\n",
    "mask[torch.randperm(34, generator=g)[:24]] = True\n",
    "mask = mask.bool()"
   ]
  },
  {
   "cell_type": "code",
   "execution_count": 580,
   "id": "317ce121-c588-42df-885f-4816c61b1c1f",
   "metadata": {},
   "outputs": [],
   "source": [
    "class LGCL(nn.Module):\n",
    "    def __init__(self, input_dim, output_dim, k):\n",
    "        super().__init__()\n",
    "\n",
    "        self.input_dim = input_dim\n",
    "        self.output_dim = output_dim\n",
    "        self.k = k\n",
    "        \n",
    "        \"\"\"\n",
    "        3.2 - 1-D Convolutional Neural Networks\n",
    "        The c(·) function in formula 3\n",
    "\n",
    "        I think they are using there own implementation??\n",
    "        But i will use pytorch implementation for now\n",
    "        \"\"\"\n",
    "        self.conv1 = nn.Conv1d(\n",
    "            in_channels=input_dim, \n",
    "            out_channels=output_dim, \n",
    "            kernel_size=k+1\n",
    "        )\n",
    "\n",
    "    def forward(self, x, adj_matrix):\n",
    "        \"\"\"\n",
    "        3.2 - k-largest Node Selection\n",
    "        The f(·) function in formula 3\n",
    "\n",
    "        This is kind of life preliminary step\n",
    "        The \"message passing\" occurs during the convolution\n",
    "        \"\"\"\n",
    "        # if len(neighbors_features) < 4:\n",
    "        #     neighbors_features = F.pad(neighbors_features, pad=(0, 0, 0, k - len(neighbors_features)))\n",
    "        \n",
    "        neighbors_idx = adj_matrix == 1\n",
    "        neighbors_features = x.unsqueeze(0) * neighbors_idx.unsqueeze(-1)\n",
    "        top_k_features = torch.topk(neighbors_features, k=self.k, dim=1).values\n",
    "        \n",
    "        self_and_top_k_features = torch.cat([x.unsqueeze(1), top_k_features], dim=1) # N x N x k vector\n",
    "        self_and_top_k_features = self_and_top_k_features.transpose(1, 2)\n",
    "        \n",
    "        out = self.conv1(self_and_top_k_features)\n",
    "        out = out.transpose(1, 2)\n",
    "        \n",
    "        return out.squeeze(1)"
   ]
  },
  {
   "cell_type": "code",
   "execution_count": 586,
   "id": "1a7fa249-1f44-4a15-b3c0-ebd98b1883be",
   "metadata": {},
   "outputs": [],
   "source": [
    "class LGCN(nn.Module):\n",
    "    def __init__(self, input_dim, output_dim, k):\n",
    "        super().__init__()\n",
    "\n",
    "        self.LGCL1 = LGCL(input_dim, 4, k)\n",
    "        self.LGCL2 = LGCL(25, output_dim, k)\n",
    "\n",
    "    def forward(self, x, adj_matrix):\n",
    "        h = self.LGCL1(x, adj_matrix)\n",
    "        # h = F.relu(h)\n",
    "        # logits = self.LGCL2(h, adj_matrix)\n",
    "        \n",
    "        return h"
   ]
  },
  {
   "cell_type": "code",
   "execution_count": 587,
   "id": "e81ac929-f367-4636-8ed6-f1076f2c3359",
   "metadata": {},
   "outputs": [],
   "source": [
    "model = LGCN(34, 4, 1)\n",
    "targets = F.one_hot(data.y, num_classes=4).float()\n",
    "\n",
    "loss_fn = nn.CrossEntropyLoss()\n",
    "optimizer = torch.optim.AdamW(\n",
    "    model.parameters(),\n",
    "    lr=.01\n",
    ")"
   ]
  },
  {
   "cell_type": "code",
   "execution_count": 588,
   "id": "03c0fed4-ac26-4709-877b-cefcea8bf747",
   "metadata": {},
   "outputs": [
    {
     "name": "stdout",
     "output_type": "stream",
     "text": [
      "1.4479280710220337\n",
      "1.3827403783798218\n",
      "1.319880485534668\n",
      "1.259462594985962\n",
      "1.2015976905822754\n",
      "1.1463440656661987\n",
      "1.0936994552612305\n",
      "1.0436075925827026\n",
      "0.9959812760353088\n",
      "0.9507231712341309\n",
      "0.9077350497245789\n",
      "0.8669193387031555\n",
      "0.8281809687614441\n",
      "0.7914261817932129\n",
      "0.756563663482666\n",
      "0.723504364490509\n",
      "0.6921618580818176\n",
      "0.6624529957771301\n",
      "0.6342976689338684\n",
      "0.6076192259788513\n",
      "0.5823437571525574\n",
      "0.558400571346283\n",
      "0.5357216000556946\n",
      "0.5142415165901184\n",
      "0.4938971996307373\n",
      "0.4746280908584595\n",
      "0.4563758373260498\n",
      "0.4390844404697418\n",
      "0.4227001965045929\n",
      "0.4071715772151947\n",
      "0.39244937896728516\n",
      "0.3784867823123932\n",
      "0.3652392327785492\n",
      "0.3526644706726074\n",
      "0.3407226502895355\n",
      "0.3293760120868683\n",
      "0.3185892403125763\n",
      "0.3083289861679077\n",
      "0.29856398701667786\n",
      "0.28926515579223633\n",
      "0.2804049551486969\n",
      "0.27195796370506287\n",
      "0.26390019059181213\n",
      "0.2562093734741211\n",
      "0.2488645762205124\n",
      "0.24184636771678925\n",
      "0.2351364940404892\n",
      "0.2287178635597229\n",
      "0.22257445752620697\n",
      "0.21669141948223114\n",
      "0.21105466783046722\n",
      "0.20565104484558105\n",
      "0.2004683017730713\n",
      "0.19549471139907837\n",
      "0.19071947038173676\n",
      "0.18613235652446747\n",
      "0.18172365427017212\n",
      "0.17748446762561798\n",
      "0.17340607941150665\n",
      "0.1694806069135666\n",
      "0.16570033133029938\n",
      "0.1620582789182663\n",
      "0.15854763984680176\n",
      "0.155162051320076\n",
      "0.15189559757709503\n",
      "0.14874257147312164\n",
      "0.1456976681947708\n",
      "0.14275585114955902\n",
      "0.13991235196590424\n",
      "0.1371627300977707\n",
      "0.13450269401073456\n",
      "0.1319282352924347\n",
      "0.12943564355373383\n",
      "0.12702125310897827\n",
      "0.12468165159225464\n",
      "0.12241372466087341\n",
      "0.12021439522504807\n",
      "0.11808078736066818\n",
      "0.1160101667046547\n",
      "0.11399997025728226\n",
      "0.11204776912927628\n",
      "0.11015119403600693\n",
      "0.1083080992102623\n",
      "0.10651633143424988\n",
      "0.10477393865585327\n",
      "0.10307905822992325\n",
      "0.10142985731363297\n",
      "0.09982461482286453\n",
      "0.0982617512345314\n",
      "0.09673965722322464\n",
      "0.09525687247514725\n",
      "0.0938120186328888\n",
      "0.09240365773439407\n",
      "0.09103063493967056\n",
      "0.089691661298275\n",
      "0.08838552236557007\n",
      "0.08711114525794983\n",
      "0.08586744219064713\n",
      "0.08465338498353958\n",
      "0.08346796035766602\n"
     ]
    }
   ],
   "source": [
    "import numpy as np\n",
    "model.train()\n",
    "for idx in range(100):\n",
    "    optimizer.zero_grad()\n",
    "    preds = model(data.x, adj_matrix)\n",
    "    # print(preds)\n",
    "    # break\n",
    "    loss = loss_fn(preds[mask], targets[mask])\n",
    "    loss.backward()\n",
    "    optimizer.step()\n",
    "    print(loss.item())"
   ]
  },
  {
   "cell_type": "code",
   "execution_count": 589,
   "id": "b4f92111-6c27-4a4e-8a50-0a2026ced031",
   "metadata": {},
   "outputs": [
    {
     "name": "stdout",
     "output_type": "stream",
     "text": [
      "tensor([1, 1, 1, 1, 3, 3, 3, 1, 0, 1, 3, 1, 1, 1, 0, 0, 3, 1, 0, 1, 0, 1, 0, 0,\n",
      "        2, 2, 0, 0, 0, 0, 0, 2, 0, 0])\n"
     ]
    },
    {
     "data": {
      "text/plain": [
       "tensor(0.9706)"
      ]
     },
     "execution_count": 589,
     "metadata": {},
     "output_type": "execute_result"
    }
   ],
   "source": [
    "model.eval()\n",
    "out = model(data.x, adj_matrix)\n",
    "out = out.squeeze(1)\n",
    "pred = out.argmax(dim=1)\n",
    "print(pred)\n",
    "accuracy = (pred == data.y).sum() / len(data.y)\n",
    "accuracy"
   ]
  },
  {
   "cell_type": "code",
   "execution_count": 585,
   "id": "cb0b2dfe-08be-4a92-bf29-0adf16c5905e",
   "metadata": {},
   "outputs": [
    {
     "data": {
      "text/plain": [
       "tensor([1, 1, 1, 1, 3, 3, 3, 1, 0, 1, 3, 1, 1, 1, 0, 0, 3, 1, 0, 1, 0, 1, 0, 0,\n",
       "        2, 2, 0, 0, 2, 0, 0, 2, 0, 0])"
      ]
     },
     "execution_count": 585,
     "metadata": {},
     "output_type": "execute_result"
    }
   ],
   "source": [
    "data.y"
   ]
  },
  {
   "cell_type": "code",
   "execution_count": null,
   "id": "c5731dd7-945b-427c-894f-d7d881e852df",
   "metadata": {},
   "outputs": [],
   "source": []
  }
 ],
 "metadata": {
  "kernelspec": {
   "display_name": "lgcn",
   "language": "python",
   "name": "lgcn"
  },
  "language_info": {
   "codemirror_mode": {
    "name": "ipython",
    "version": 3
   },
   "file_extension": ".py",
   "mimetype": "text/x-python",
   "name": "python",
   "nbconvert_exporter": "python",
   "pygments_lexer": "ipython3",
   "version": "3.12.7"
  }
 },
 "nbformat": 4,
 "nbformat_minor": 5
}
